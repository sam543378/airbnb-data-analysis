{
  "nbformat": 4,
  "nbformat_minor": 0,
  "metadata": {
    "colab": {
      "provenance": []
    },
    "kernelspec": {
      "name": "python3",
      "display_name": "Python 3"
    },
    "language_info": {
      "name": "python"
    }
  },
  "cells": [
    {
      "cell_type": "code",
      "execution_count": 91,
      "metadata": {
        "id": "nXDBXWQWrpda",
        "collapsed": true,
        "colab": {
          "base_uri": "https://localhost:8080/"
        },
        "outputId": "839b7628-1a1a-4a6a-96cd-b0790fe4b8a6"
      },
      "outputs": [
        {
          "output_type": "stream",
          "name": "stderr",
          "text": [
            "<ipython-input-91-3128d2961eb5>:2: DtypeWarning: Columns (2,8,14,18,25) have mixed types. Specify dtype option on import or set low_memory=False.\n",
            "  df=pd.read_csv('/content/Airbnb_Open_Data (1).csv')\n"
          ]
        }
      ],
      "source": [
        "import pandas as pd\n",
        "df=pd.read_csv('/content/Airbnb_Open_Data (1).csv')"
      ]
    },
    {
      "cell_type": "markdown",
      "source": [
        "Steps For Cleaning The Data\n",
        "\n",
        "1. Understand the Data  \n",
        "2. Handle Missing Value\n",
        "3. Ensure Correct Data Types\n",
        "4. Remove Duplicates\n",
        "5. Outlier Detection"
      ],
      "metadata": {
        "id": "LkC-iwG4uHEv"
      }
    },
    {
      "cell_type": "markdown",
      "source": [],
      "metadata": {
        "id": "kdpHbl8LtR-z"
      }
    },
    {
      "cell_type": "code",
      "source": [
        "df.head()\n",
        "df.info()"
      ],
      "metadata": {
        "id": "wFqBNtLEjzrJ",
        "collapsed": true,
        "colab": {
          "base_uri": "https://localhost:8080/"
        },
        "outputId": "27602ef4-b8c2-4fa5-cee0-f28280110ff8"
      },
      "execution_count": 92,
      "outputs": [
        {
          "output_type": "stream",
          "name": "stdout",
          "text": [
            "<class 'pandas.core.frame.DataFrame'>\n",
            "RangeIndex: 102600 entries, 0 to 102599\n",
            "Data columns (total 26 columns):\n",
            " #   Column                          Non-Null Count   Dtype  \n",
            "---  ------                          --------------   -----  \n",
            " 0   id                              102599 non-null  float64\n",
            " 1   NAME                            102350 non-null  object \n",
            " 2   host id                         102599 non-null  object \n",
            " 3   host_identity_verified          102310 non-null  object \n",
            " 4   host name                       102193 non-null  object \n",
            " 5   neighbourhood group             102570 non-null  object \n",
            " 6   neighbourhood                   102583 non-null  object \n",
            " 7   lat                             102591 non-null  float64\n",
            " 8   long                            102591 non-null  object \n",
            " 9   country                         102067 non-null  object \n",
            " 10  country code                    102468 non-null  object \n",
            " 11  instant_bookable                102494 non-null  object \n",
            " 12  cancellation_policy             102523 non-null  object \n",
            " 13  room type                       102599 non-null  object \n",
            " 14  Construction year               102385 non-null  object \n",
            " 15  price                           102352 non-null  object \n",
            " 16  service fee                     102326 non-null  object \n",
            " 17  minimum nights                  102190 non-null  float64\n",
            " 18  number of reviews               102416 non-null  object \n",
            " 19  last review                     86706 non-null   object \n",
            " 20  reviews per month               86720 non-null   float64\n",
            " 21  review rate number              102273 non-null  float64\n",
            " 22  calculated host listings count  102280 non-null  float64\n",
            " 23  availability 365                102150 non-null  float64\n",
            " 24  house_rules                     50468 non-null   object \n",
            " 25  license                         2 non-null       object \n",
            "dtypes: float64(7), object(19)\n",
            "memory usage: 20.4+ MB\n"
          ]
        }
      ]
    },
    {
      "cell_type": "code",
      "source": [
        "print(df.isnull().sum())"
      ],
      "metadata": {
        "colab": {
          "base_uri": "https://localhost:8080/"
        },
        "id": "yg-U7MYUj0Gx",
        "outputId": "9cf61366-9386-4ea1-bcfb-6ad734f6eaa2",
        "collapsed": true
      },
      "execution_count": 93,
      "outputs": [
        {
          "output_type": "stream",
          "name": "stdout",
          "text": [
            "id                                     1\n",
            "NAME                                 250\n",
            "host id                                1\n",
            "host_identity_verified               290\n",
            "host name                            407\n",
            "neighbourhood group                   30\n",
            "neighbourhood                         17\n",
            "lat                                    9\n",
            "long                                   9\n",
            "country                              533\n",
            "country code                         132\n",
            "instant_bookable                     106\n",
            "cancellation_policy                   77\n",
            "room type                              1\n",
            "Construction year                    215\n",
            "price                                248\n",
            "service fee                          274\n",
            "minimum nights                       410\n",
            "number of reviews                    184\n",
            "last review                        15894\n",
            "reviews per month                  15880\n",
            "review rate number                   327\n",
            "calculated host listings count       320\n",
            "availability 365                     450\n",
            "house_rules                        52132\n",
            "license                           102598\n",
            "dtype: int64\n"
          ]
        }
      ]
    },
    {
      "cell_type": "markdown",
      "source": [],
      "metadata": {
        "id": "e4kbF-vulxo-"
      }
    },
    {
      "cell_type": "markdown",
      "source": [
        "1. Coulmn 'ID' (Primary Key)\n",
        "It is UNIQUE identifier for each row\n",
        "There is one missing value\n",
        "Droping the row with the MISSING id value would be\n",
        "preferable since it's a unique identifier, and without it, the record cannot be referenced"
      ],
      "metadata": {
        "id": "TExiXfc3wKPf"
      }
    },
    {
      "cell_type": "code",
      "source": [
        "df=df.dropna(subset=['id']) # Drop rows with missing 'id'"
      ],
      "metadata": {
        "id": "eAU8odmIj0Kp"
      },
      "execution_count": 94,
      "outputs": []
    },
    {
      "cell_type": "code",
      "source": [
        "df['NAME'] = df['NAME'].fillna('No Name Provided')  # Impute missing values with placeholder"
      ],
      "metadata": {
        "id": "RqRuWxwfj0OE",
        "collapsed": true
      },
      "execution_count": 95,
      "outputs": []
    },
    {
      "cell_type": "code",
      "source": [
        "df['host id'] = pd.to_numeric(df['host id'], errors='coerce')\n",
        "df = df.dropna(subset=['host id'])  # Drop rows with missing 'host id'"
      ],
      "metadata": {
        "id": "w8KFGnioj0R0"
      },
      "execution_count": 96,
      "outputs": []
    },
    {
      "cell_type": "code",
      "source": [
        "df['host_identity_verified'] = df['host_identity_verified'].fillna('Unknown')  # Fill missing with 'Unknown'\n"
      ],
      "metadata": {
        "id": "7xOssy4Dj0VL",
        "colab": {
          "base_uri": "https://localhost:8080/"
        },
        "outputId": "f9a8babe-7955-4bbd-ab3b-02622d633bd4",
        "collapsed": true
      },
      "execution_count": 97,
      "outputs": [
        {
          "output_type": "stream",
          "name": "stderr",
          "text": [
            "<ipython-input-97-296ecb3ff368>:1: SettingWithCopyWarning: \n",
            "A value is trying to be set on a copy of a slice from a DataFrame.\n",
            "Try using .loc[row_indexer,col_indexer] = value instead\n",
            "\n",
            "See the caveats in the documentation: https://pandas.pydata.org/pandas-docs/stable/user_guide/indexing.html#returning-a-view-versus-a-copy\n",
            "  df['host_identity_verified'] = df['host_identity_verified'].fillna('Unknown')  # Fill missing with 'Unknown'\n"
          ]
        }
      ]
    },
    {
      "cell_type": "code",
      "source": [
        "df['host name'] = df['host name'].fillna('No Host Name')  # Fill missing with placeholder\n"
      ],
      "metadata": {
        "id": "6gHmbe_rj0Y-",
        "colab": {
          "base_uri": "https://localhost:8080/"
        },
        "outputId": "2a518183-2fb5-4bf4-9be1-3aae39eb4a69",
        "collapsed": true
      },
      "execution_count": 98,
      "outputs": [
        {
          "output_type": "stream",
          "name": "stderr",
          "text": [
            "<ipython-input-98-3f4d7bacbe36>:1: SettingWithCopyWarning: \n",
            "A value is trying to be set on a copy of a slice from a DataFrame.\n",
            "Try using .loc[row_indexer,col_indexer] = value instead\n",
            "\n",
            "See the caveats in the documentation: https://pandas.pydata.org/pandas-docs/stable/user_guide/indexing.html#returning-a-view-versus-a-copy\n",
            "  df['host name'] = df['host name'].fillna('No Host Name')  # Fill missing with placeholder\n"
          ]
        }
      ]
    },
    {
      "cell_type": "code",
      "source": [
        "df['neighbourhood group'] = df['neighbourhood group'].fillna(df['neighbourhood group'].mode()[0])  # Fill missing with mode"
      ],
      "metadata": {
        "id": "9LvtQZpmj0c4",
        "colab": {
          "base_uri": "https://localhost:8080/"
        },
        "outputId": "45d74132-b556-466e-a56f-8d44c565d10a",
        "collapsed": true
      },
      "execution_count": 99,
      "outputs": [
        {
          "output_type": "stream",
          "name": "stderr",
          "text": [
            "<ipython-input-99-ff70bead1543>:1: SettingWithCopyWarning: \n",
            "A value is trying to be set on a copy of a slice from a DataFrame.\n",
            "Try using .loc[row_indexer,col_indexer] = value instead\n",
            "\n",
            "See the caveats in the documentation: https://pandas.pydata.org/pandas-docs/stable/user_guide/indexing.html#returning-a-view-versus-a-copy\n",
            "  df['neighbourhood group'] = df['neighbourhood group'].fillna(df['neighbourhood group'].mode()[0])  # Fill missing with mode\n"
          ]
        }
      ]
    },
    {
      "cell_type": "code",
      "source": [
        "df['neighbourhood'] = df['neighbourhood'].fillna(df['neighbourhood'].mode()[0])  # Fill missing with mode"
      ],
      "metadata": {
        "id": "7esXYogcj0g0",
        "collapsed": true
      },
      "execution_count": 100,
      "outputs": []
    },
    {
      "cell_type": "code",
      "source": [
        "# Check the Proportion of Missing Values in lat and long:\n",
        "print(f\"Missing lat values: {df['lat'].isnull().sum()} ({df['lat'].isnull().mean() * 100:.2f}%)\")\n",
        "print(f\"Missing long values: {df['long'].isnull().sum()} ({df['long'].isnull().mean() * 100:.2f}%)\")\n",
        "\n",
        "# Since geolocation is critical to our analysis (e.g., mapping, spatial clustering, or distance calculations)\n",
        "#removing rows ensures the remaining data is accurate and valid.\n",
        "#since it's a very small percentage, removing the empty rows might be the cleaner solution.\n",
        "\n",
        "df = df.dropna(subset=['lat', 'long'])  # Drop rows with missing geolocation data\n",
        "df['long'] = pd.to_numeric(df['long'], errors='coerce')"
      ],
      "metadata": {
        "colab": {
          "base_uri": "https://localhost:8080/"
        },
        "collapsed": true,
        "id": "J_b6LMASn8fn",
        "outputId": "4ad94749-ff73-4315-f5a2-125cd9b28ab4"
      },
      "execution_count": 101,
      "outputs": [
        {
          "output_type": "stream",
          "name": "stdout",
          "text": [
            "Missing lat values: 8 (0.01%)\n",
            "Missing long values: 8 (0.01%)\n"
          ]
        },
        {
          "output_type": "stream",
          "name": "stderr",
          "text": [
            "<ipython-input-101-0b7e7aab8088>:10: SettingWithCopyWarning: \n",
            "A value is trying to be set on a copy of a slice from a DataFrame.\n",
            "Try using .loc[row_indexer,col_indexer] = value instead\n",
            "\n",
            "See the caveats in the documentation: https://pandas.pydata.org/pandas-docs/stable/user_guide/indexing.html#returning-a-view-versus-a-copy\n",
            "  df['long'] = pd.to_numeric(df['long'], errors='coerce')\n"
          ]
        }
      ]
    },
    {
      "cell_type": "code",
      "source": [
        "# Fill missing values in the 'country' column with \"United States\"\n",
        "df['country'] = df['country'].fillna(\"United States\")\n"
      ],
      "metadata": {
        "colab": {
          "base_uri": "https://localhost:8080/"
        },
        "collapsed": true,
        "id": "-PEmOu7In8mn",
        "outputId": "70fe7c06-1c83-4617-cbb5-05381f7b82fc"
      },
      "execution_count": 102,
      "outputs": [
        {
          "output_type": "stream",
          "name": "stderr",
          "text": [
            "<ipython-input-102-f560681712aa>:2: SettingWithCopyWarning: \n",
            "A value is trying to be set on a copy of a slice from a DataFrame.\n",
            "Try using .loc[row_indexer,col_indexer] = value instead\n",
            "\n",
            "See the caveats in the documentation: https://pandas.pydata.org/pandas-docs/stable/user_guide/indexing.html#returning-a-view-versus-a-copy\n",
            "  df['country'] = df['country'].fillna(\"United States\")\n"
          ]
        }
      ]
    },
    {
      "cell_type": "code",
      "source": [
        "#Before dropping column 'country code', we need confirm that all entries in the country column are indeed \"United States\"\n",
        "print(df['country'].unique())\n",
        "# Output should show only \"United States\"\n"
      ],
      "metadata": {
        "colab": {
          "base_uri": "https://localhost:8080/"
        },
        "id": "kxTsmijQt5rl",
        "outputId": "877a6f40-cc01-406d-ba42-62010aab8fce"
      },
      "execution_count": 103,
      "outputs": [
        {
          "output_type": "stream",
          "name": "stdout",
          "text": [
            "['United States']\n"
          ]
        }
      ]
    },
    {
      "cell_type": "code",
      "source": [
        "# We will be dropping the country code column\n",
        "# WHY?\n",
        "# Redundancy\n",
        "\n",
        "# it has no Analytical Value\n",
        "\n",
        "# to Simplify the Dataset\n",
        "\n",
        "# By dropping redundant columns, we can streamline our dataset,\n",
        "# making it easier to explore, visualize, and model.\n",
        "# Simpler datasets improve both interpretability and computational efficiency.\n",
        "\n",
        "df = df.drop(columns=['country code'])\n"
      ],
      "metadata": {
        "id": "5LViPdC7t5wl"
      },
      "execution_count": 104,
      "outputs": []
    },
    {
      "cell_type": "code",
      "source": [
        "# Fill missing values with the most frequent value (mode)\n",
        "df['instant_bookable'] = df['instant_bookable'].astype(bool)\n",
        "df['instant_bookable'] = df['instant_bookable'].fillna(df['instant_bookable'].mode()[0])\n",
        "\n"
      ],
      "metadata": {
        "id": "vlFN3yBVn8p6"
      },
      "execution_count": 105,
      "outputs": []
    },
    {
      "cell_type": "code",
      "source": [
        "df['cancellation_policy'] = df['cancellation_policy'].fillna(df['cancellation_policy'].mode()[0])  # Fill missing with mode\n"
      ],
      "metadata": {
        "id": "ZKgGZukgn8s5"
      },
      "execution_count": 106,
      "outputs": []
    },
    {
      "cell_type": "code",
      "source": [
        "# Fill missing construction years with the mode\n",
        "df['Construction year'] = pd.to_datetime(df['Construction year'], format='%Y', errors='coerce')\n",
        "df['Construction year'] = df['Construction year'].fillna(df['Construction year'].mode()[0])\n"
      ],
      "metadata": {
        "id": "Lz1UcVU1y1Ku"
      },
      "execution_count": 107,
      "outputs": []
    },
    {
      "cell_type": "code",
      "source": [
        "df['price'] = (\n",
        "    df['price']\n",
        "    .replace('', None)                        # Replace empty strings with None\n",
        "    .str.replace('$', '', regex=False)        # Remove $ sign\n",
        ")"
      ],
      "metadata": {
        "id": "4k4Z1piR5r4h"
      },
      "execution_count": 108,
      "outputs": []
    },
    {
      "cell_type": "code",
      "source": [
        "df['price'] = pd.to_numeric(df['price'], errors='coerce')  # Convert to numeric\n",
        "df['price'] = df['price'].fillna(df['price'].median())  # Impute missing with median"
      ],
      "metadata": {
        "id": "EUXILFOfy1Sq"
      },
      "execution_count": 109,
      "outputs": []
    },
    {
      "cell_type": "code",
      "source": [
        "df['service fee'] = (\n",
        "    df['service fee']\n",
        "    .replace('', None)                        # Replace empty strings with None\n",
        "    .str.replace('$', '', regex=False)        # Remove $ sign\n",
        ")"
      ],
      "metadata": {
        "id": "rKo36ww8y1V5"
      },
      "execution_count": 110,
      "outputs": []
    },
    {
      "cell_type": "code",
      "source": [
        "df['service fee'] = pd.to_numeric(df['service fee'], errors='coerce')  # Convert to numeric\n",
        "df['service fee'] = df['service fee'].fillna(df['service fee'].median())"
      ],
      "metadata": {
        "id": "HGIVyOZcy1Yg"
      },
      "execution_count": 111,
      "outputs": []
    },
    {
      "cell_type": "code",
      "source": [
        "import seaborn as sns\n",
        "import matplotlib.pyplot as plt\n",
        "\n",
        "plt.figure(figsize=(10, 5))\n",
        "sns.boxplot(x=df['minimum nights'])\n",
        "plt.title(\"Box Plot of Minimum Nights Before Cleaning\")\n",
        "plt.show()"
      ],
      "metadata": {
        "colab": {
          "base_uri": "https://localhost:8080/",
          "height": 487
        },
        "id": "27EpxtQAy1oH",
        "outputId": "e50ea01b-aa57-42a7-f1be-5fade13d9955",
        "collapsed": true
      },
      "execution_count": 112,
      "outputs": [
        {
          "output_type": "display_data",
          "data": {
            "text/plain": [
              "<Figure size 1000x500 with 1 Axes>"
            ],
            "image/png": "[encoded data removed]"
          },
          "metadata": {}
        }
      ]
    },
    {
      "cell_type": "code",
      "source": [
        "\n",
        "# Remove outliers using IQR\n",
        "Q1 = df['minimum nights'].quantile(0.25)  # 25th percentile\n",
        "\n",
        "Q3 = df['minimum nights'].quantile(0.75)  # 75th percentile\n",
        "print(Q3)\n",
        "IQR = Q3 - Q1  # Interquartile range\n",
        "\n",
        "lower_bound = Q1 - 1.5 * IQR\n",
        "upper_bound = Q3 + 1.5 * IQR\n",
        "\n",
        "df = df[(df['minimum nights'] >= lower_bound) & (df['minimum nights'] <= upper_bound)]\n",
        "\n",
        "# Visualising the cleaned data\n",
        "import seaborn as sns\n",
        "import matplotlib.pyplot as plt\n",
        "\n",
        "plt.figure(figsize=(10, 5))\n",
        "sns.boxplot(x=df['minimum nights'])\n",
        "plt.title(\"Box Plot of Minimum Nights After Cleaning\")\n",
        "plt.show()\n"
      ],
      "metadata": {
        "colab": {
          "base_uri": "https://localhost:8080/",
          "height": 504
        },
        "collapsed": true,
        "id": "Ba4Bt6-wlvOq",
        "outputId": "ecefef86-213a-4f7c-8c09-9adb59459dab"
      },
      "execution_count": 113,
      "outputs": [
        {
          "output_type": "stream",
          "name": "stdout",
          "text": [
            "5.0\n"
          ]
        },
        {
          "output_type": "display_data",
          "data": {
            "text/plain": [
              "<Figure size 1000x500 with 1 Axes>"
            ],
            "image/png": "[encoded data removed]"
          },
          "metadata": {}
        }
      ]
    },
    {
      "cell_type": "code",
      "source": [
        "df = df[df['minimum nights'] >= 0]\n",
        "print(df['minimum nights'].value_counts())"
      ],
      "metadata": {
        "colab": {
          "base_uri": "https://localhost:8080/"
        },
        "collapsed": true,
        "id": "lW8rssY0lvSD",
        "outputId": "45f79924-d40d-49fc-c8ac-1dfce029a5b0"
      },
      "execution_count": 114,
      "outputs": [
        {
          "output_type": "stream",
          "name": "stdout",
          "text": [
            "minimum nights\n",
            "1.0    25418\n",
            "2.0    23604\n",
            "3.0    16113\n",
            "4.0     6625\n",
            "5.0     6050\n",
            "7.0     4038\n",
            "6.0     1537\n",
            "8.0      246\n",
            "9.0      157\n",
            "Name: count, dtype: int64\n"
          ]
        }
      ]
    },
    {
      "cell_type": "code",
      "source": [
        "df['number of reviews'] = pd.to_numeric(df['number of reviews'], errors='coerce')  # Convert to numeric\n",
        "df['number of reviews'] = df['number of reviews'].fillna(0)  # Replace missing values with 0"
      ],
      "metadata": {
        "id": "X1DaTEUk_cT8",
        "colab": {
          "base_uri": "https://localhost:8080/"
        },
        "collapsed": true,
        "outputId": "1bfe2766-4332-477c-cc19-73d6264d3fc2"
      },
      "execution_count": 115,
      "outputs": [
        {
          "output_type": "stream",
          "name": "stderr",
          "text": [
            "<ipython-input-115-67f8c95c61b3>:1: SettingWithCopyWarning: \n",
            "A value is trying to be set on a copy of a slice from a DataFrame.\n",
            "Try using .loc[row_indexer,col_indexer] = value instead\n",
            "\n",
            "See the caveats in the documentation: https://pandas.pydata.org/pandas-docs/stable/user_guide/indexing.html#returning-a-view-versus-a-copy\n",
            "  df['number of reviews'] = pd.to_numeric(df['number of reviews'], errors='coerce')  # Convert to numeric\n",
            "<ipython-input-115-67f8c95c61b3>:2: SettingWithCopyWarning: \n",
            "A value is trying to be set on a copy of a slice from a DataFrame.\n",
            "Try using .loc[row_indexer,col_indexer] = value instead\n",
            "\n",
            "See the caveats in the documentation: https://pandas.pydata.org/pandas-docs/stable/user_guide/indexing.html#returning-a-view-versus-a-copy\n",
            "  df['number of reviews'] = df['number of reviews'].fillna(0)  # Replace missing values with 0\n"
          ]
        }
      ]
    },
    {
      "cell_type": "code",
      "source": [
        "# Step 1: Convert to datetime, coercing invalid values to NaT\n",
        "df['last review'] = pd.to_datetime(df['last review'], errors='coerce')\n",
        "\n",
        "# Step 2: Handle incomplete dates (rows the has only years)\n",
        "df['last review'] = df['last review'].fillna(df['last review'].apply(lambda x: pd.to_datetime(f\"{x}-01-01\") if str(x).isdigit() else x))\n"
      ],
      "metadata": {
        "id": "HQJUcUPrA7lI",
        "colab": {
          "base_uri": "https://localhost:8080/"
        },
        "outputId": "da13b4cc-d947-426a-e13a-3c742998fb23"
      },
      "execution_count": 116,
      "outputs": [
        {
          "output_type": "stream",
          "name": "stderr",
          "text": [
            "<ipython-input-116-95842d281bc1>:2: SettingWithCopyWarning: \n",
            "A value is trying to be set on a copy of a slice from a DataFrame.\n",
            "Try using .loc[row_indexer,col_indexer] = value instead\n",
            "\n",
            "See the caveats in the documentation: https://pandas.pydata.org/pandas-docs/stable/user_guide/indexing.html#returning-a-view-versus-a-copy\n",
            "  df['last review'] = pd.to_datetime(df['last review'], errors='coerce')\n"
          ]
        }
      ]
    },
    {
      "cell_type": "code",
      "source": [
        "df['reviews per month'] = df['reviews per month'].fillna(0)  # Replace missing values with 0\n",
        "#print(df['reviews per month'].isna().sum())\n"
      ],
      "metadata": {
        "id": "lIcX6jP7A74X"
      },
      "execution_count": 117,
      "outputs": []
    },
    {
      "cell_type": "code",
      "source": [
        "df['review rate number'] = df['review rate number'].fillna(df['review rate number'].median())  # Impute missing with median\n"
      ],
      "metadata": {
        "id": "BBDptLVEA8GO"
      },
      "execution_count": 118,
      "outputs": []
    },
    {
      "cell_type": "code",
      "source": [
        "df['calculated host listings count'] = df['calculated host listings count'].fillna(df['calculated host listings count'].median()\n",
        ")  # Impute missing with median"
      ],
      "metadata": {
        "id": "ZberIArSIHzR"
      },
      "execution_count": 119,
      "outputs": []
    },
    {
      "cell_type": "code",
      "source": [
        "# Step 1: Check the original size of the DataFrame\n",
        "print(f\"Original number of rows: {df.shape[0]}\")\n",
        "\n",
        "# Step 2: Remove invalid values\n",
        "# Filter out rows where 'availability 365' is less than 0 or greater than 365\n",
        "# Retain NaN values while removing invalid numbers\n",
        "df = df[((df['availability 365'] >= 0) & (df['availability 365'] <= 365)) | (df['availability 365'].isna())]\n",
        "\n",
        "\n",
        "# Step 3: Check the cleaned size of the DataFrame\n",
        "print(f\"Number of rows after removing invalid availability values: {df.shape[0]}\")\n",
        "\n",
        "# Step 4: Optional - Reset index\n",
        "df.reset_index(drop=True, inplace=True)"
      ],
      "metadata": {
        "colab": {
          "base_uri": "https://localhost:8080/"
        },
        "id": "VriTw9OEIH4Z",
        "outputId": "6f0388b3-423b-405d-9e9f-a17745f003a4",
        "collapsed": true
      },
      "execution_count": 120,
      "outputs": [
        {
          "output_type": "stream",
          "name": "stdout",
          "text": [
            "Original number of rows: 83788\n",
            "Number of rows after removing invalid availability values: 81085\n"
          ]
        }
      ]
    },
    {
      "cell_type": "code",
      "source": [
        "df['house_rules'] = df['house_rules'].fillna('Unknown')  # Replace missing with placeholder"
      ],
      "metadata": {
        "colab": {
          "base_uri": "https://localhost:8080/"
        },
        "id": "Yx7wPlsiP9cA",
        "outputId": "568f2aec-8f31-4b83-f4f8-7a96aae34247",
        "collapsed": true
      },
      "execution_count": 121,
      "outputs": [
        {
          "output_type": "stream",
          "name": "stderr",
          "text": [
            "<ipython-input-121-a465081af1d7>:1: SettingWithCopyWarning: \n",
            "A value is trying to be set on a copy of a slice from a DataFrame.\n",
            "Try using .loc[row_indexer,col_indexer] = value instead\n",
            "\n",
            "See the caveats in the documentation: https://pandas.pydata.org/pandas-docs/stable/user_guide/indexing.html#returning-a-view-versus-a-copy\n",
            "  df['house_rules'] = df['house_rules'].fillna('Unknown')  # Replace missing with placeholder\n"
          ]
        }
      ]
    },
    {
      "cell_type": "code",
      "source": [
        "df.drop(columns='license',inplace=True) # Drop column due to too many missing values(above 99%)"
      ],
      "metadata": {
        "colab": {
          "base_uri": "https://localhost:8080/"
        },
        "collapsed": true,
        "id": "LAOtrhBuP9k-",
        "outputId": "e1d4dffc-3595-45cd-e667-46b44404fdf0"
      },
      "execution_count": 122,
      "outputs": [
        {
          "output_type": "stream",
          "name": "stderr",
          "text": [
            "<ipython-input-122-53b239fdd085>:1: SettingWithCopyWarning: \n",
            "A value is trying to be set on a copy of a slice from a DataFrame\n",
            "\n",
            "See the caveats in the documentation: https://pandas.pydata.org/pandas-docs/stable/user_guide/indexing.html#returning-a-view-versus-a-copy\n",
            "  df.drop(columns='license',inplace=True) # Drop column due to too many missing values(above 99%)\n"
          ]
        }
      ]
    },
    {
      "cell_type": "code",
      "source": [
        "df['neighbourhood group'] = df['neighbourhood group'].str.strip().str.lower()\n",
        "df['neighbourhood group'] = df['neighbourhood group'].replace({\n",
        "    'brookln': 'brooklyn',\n",
        "    'manhatan': 'manhattan',\n",
        "    'staten is': 'staten island'\n",
        "}, regex=False)\n",
        "print(df['neighbourhood group'].unique())"
      ],
      "metadata": {
        "colab": {
          "base_uri": "https://localhost:8080/"
        },
        "id": "WA73JqOun_b7",
        "outputId": "d58ae3eb-abea-45f1-fa2a-b549d968dc9f"
      },
      "execution_count": 123,
      "outputs": [
        {
          "output_type": "stream",
          "name": "stdout",
          "text": [
            "['manhattan' 'brooklyn' 'queens' 'bronx' 'staten island']\n"
          ]
        }
      ]
    },
    {
      "cell_type": "code",
      "source": [
        "df['last review'] = df['last review'].apply(lambda x: x.replace(year=2022) if x.year > 2022 else x)\n",
        "print(df['last review'].max())"
      ],
      "metadata": {
        "colab": {
          "base_uri": "https://localhost:8080/"
        },
        "id": "0bZRV3QzH6SD",
        "outputId": "8cdabc8c-c2dd-4d77-bf6c-80c1b1ac4f02"
      },
      "execution_count": 124,
      "outputs": [
        {
          "output_type": "stream",
          "name": "stdout",
          "text": [
            "2022-06-16 00:00:00\n"
          ]
        }
      ]
    },
    {
      "cell_type": "code",
      "source": [
        "# Remove duplicates\n",
        "df = df.drop_duplicates()\n",
        "\n",
        "# Reset index after cleaning\n",
        "df = df.reset_index(drop=True)\n",
        "# Save cleaned data\n",
        "df.to_excel('cleaned_Airbnb_dataset.xlsx', index=False)\n",
        "\n",
        "# Summary of missing values after cleaning\n",
        "print(\"Missing values after cleaning:\\n\", df.isnull().sum())"
      ],
      "metadata": {
        "colab": {
          "base_uri": "https://localhost:8080/"
        },
        "id": "3vWBJ-5ZueDL",
        "outputId": "1e2c1e66-ca85-414d-a438-68b3740d6e26",
        "collapsed": true
      },
      "execution_count": 125,
      "outputs": [
        {
          "output_type": "stream",
          "name": "stdout",
          "text": [
            "Missing values after cleaning:\n",
            " id                                    0\n",
            "NAME                                  0\n",
            "host id                               0\n",
            "host_identity_verified                0\n",
            "host name                             0\n",
            "neighbourhood group                   0\n",
            "neighbourhood                         0\n",
            "lat                                   0\n",
            "long                                  0\n",
            "country                               0\n",
            "instant_bookable                      0\n",
            "cancellation_policy                   0\n",
            "room type                             0\n",
            "Construction year                     0\n",
            "price                                 0\n",
            "service fee                           0\n",
            "minimum nights                        0\n",
            "number of reviews                     0\n",
            "last review                       38661\n",
            "reviews per month                     0\n",
            "review rate number                    0\n",
            "calculated host listings count        0\n",
            "availability 365                    359\n",
            "house_rules                           0\n",
            "dtype: int64\n"
          ]
        }
      ]
    },
    {
      "cell_type": "code",
      "source": [
        "df.info()"
      ],
      "metadata": {
        "colab": {
          "base_uri": "https://localhost:8080/"
        },
        "collapsed": true,
        "id": "wkicF__6J5KF",
        "outputId": "8dd272a4-f3f5-4a55-db8e-6b8f6812303c"
      },
      "execution_count": 126,
      "outputs": [
        {
          "output_type": "stream",
          "name": "stdout",
          "text": [
            "<class 'pandas.core.frame.DataFrame'>\n",
            "RangeIndex: 80986 entries, 0 to 80985\n",
            "Data columns (total 24 columns):\n",
            " #   Column                          Non-Null Count  Dtype         \n",
            "---  ------                          --------------  -----         \n",
            " 0   id                              80986 non-null  float64       \n",
            " 1   NAME                            80986 non-null  object        \n",
            " 2   host id                         80986 non-null  float64       \n",
            " 3   host_identity_verified          80986 non-null  object        \n",
            " 4   host name                       80986 non-null  object        \n",
            " 5   neighbourhood group             80986 non-null  object        \n",
            " 6   neighbourhood                   80986 non-null  object        \n",
            " 7   lat                             80986 non-null  float64       \n",
            " 8   long                            80986 non-null  float64       \n",
            " 9   country                         80986 non-null  object        \n",
            " 10  instant_bookable                80986 non-null  bool          \n",
            " 11  cancellation_policy             80986 non-null  object        \n",
            " 12  room type                       80986 non-null  object        \n",
            " 13  Construction year               80986 non-null  datetime64[ns]\n",
            " 14  price                           80986 non-null  float64       \n",
            " 15  service fee                     80986 non-null  float64       \n",
            " 16  minimum nights                  80986 non-null  float64       \n",
            " 17  number of reviews               80986 non-null  float64       \n",
            " 18  last review                     42325 non-null  datetime64[ns]\n",
            " 19  reviews per month               80986 non-null  float64       \n",
            " 20  review rate number              80986 non-null  float64       \n",
            " 21  calculated host listings count  80986 non-null  float64       \n",
            " 22  availability 365                80627 non-null  float64       \n",
            " 23  house_rules                     80986 non-null  object        \n",
            "dtypes: bool(1), datetime64[ns](2), float64(12), object(9)\n",
            "memory usage: 14.3+ MB\n"
          ]
        }
      ]
    },
    {
      "cell_type": "code",
      "source": [
        "#default_lat, default_lon = 37.0902, -95.7129  # Geographic center of the U.S.\n",
        "#df['lat'].fillna(default_lat, inplace=True)\n",
        "#df['long'].fillna(default_lon, inplace=True)"
      ],
      "metadata": {
        "collapsed": true,
        "id": "MNry_kvkYqnj"
      },
      "execution_count": 127,
      "outputs": []
    }
  ]
}